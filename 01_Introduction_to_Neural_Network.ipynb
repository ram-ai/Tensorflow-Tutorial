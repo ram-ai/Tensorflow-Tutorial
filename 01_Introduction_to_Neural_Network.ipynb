{
  "nbformat": 4,
  "nbformat_minor": 0,
  "metadata": {
    "colab": {
      "name": "01. Introduction to Neural Network.ipynb",
      "provenance": []
    },
    "kernelspec": {
      "name": "python3",
      "display_name": "Python 3"
    }
  },
  "cells": [
    {
      "cell_type": "code",
      "metadata": {
        "id": "9aP83yaLkgWP",
        "colab_type": "code",
        "colab": {}
      },
      "source": [
        "import tensorflow as tf\n",
        "from tensorflow import keras\n",
        "from tensorflow.keras import layers\n",
        "from tensorflow.keras.datasets import mnist\n",
        "\n",
        "import numpy as np\n",
        "import pandas as pd\n",
        "import matplotlib.pyplot as plt\n",
        "%matplotlib inline"
      ],
      "execution_count": 1,
      "outputs": []
    },
    {
      "cell_type": "code",
      "metadata": {
        "id": "Gi9WGBqWlO_g",
        "colab_type": "code",
        "colab": {
          "base_uri": "https://localhost:8080/",
          "height": 34
        },
        "outputId": "fbae79cd-a89d-42e3-a0bc-8b89aa861ebb"
      },
      "source": [
        "(Xtrain, ytrain), (Xtest, ytest) = mnist.load_data()\n",
        "print(Xtrain.shape, ytrain.shape)"
      ],
      "execution_count": 2,
      "outputs": [
        {
          "output_type": "stream",
          "text": [
            "(60000, 28, 28) (60000,)\n"
          ],
          "name": "stdout"
        }
      ]
    },
    {
      "cell_type": "code",
      "metadata": {
        "id": "vHqBpiBAlent",
        "colab_type": "code",
        "colab": {}
      },
      "source": [
        "X_train = Xtrain.reshape(-1, 28*28).astype(np.float32)/255.\n",
        "X_test = Xtest.reshape(-1, 28*28).astype(np.float32)/255."
      ],
      "execution_count": 3,
      "outputs": []
    },
    {
      "cell_type": "markdown",
      "metadata": {
        "id": "yU43OD86zyFl",
        "colab_type": "text"
      },
      "source": [
        "# Model Creation with Keras Sequential API"
      ]
    },
    {
      "cell_type": "code",
      "metadata": {
        "id": "kqTgqqjeFSMg",
        "colab_type": "code",
        "colab": {
          "base_uri": "https://localhost:8080/",
          "height": 255
        },
        "outputId": "617858c7-ba2c-492a-ee58-32cc52a69495"
      },
      "source": [
        "model = keras.Sequential(\n",
        "    [\n",
        "     keras.Input(shape=28*28),\n",
        "     layers.Dense(512, activation='relu', name='fc1'),\n",
        "     layers.Dense(256, activation='relu', name='fc2'),\n",
        "     layers.Dense(10, name='fc3')\n",
        "    ],\n",
        "    name='model'\n",
        ")\n",
        "model.summary()"
      ],
      "execution_count": 4,
      "outputs": [
        {
          "output_type": "stream",
          "text": [
            "Model: \"model\"\n",
            "_________________________________________________________________\n",
            "Layer (type)                 Output Shape              Param #   \n",
            "=================================================================\n",
            "fc1 (Dense)                  (None, 512)               401920    \n",
            "_________________________________________________________________\n",
            "fc2 (Dense)                  (None, 256)               131328    \n",
            "_________________________________________________________________\n",
            "fc3 (Dense)                  (None, 10)                2570      \n",
            "=================================================================\n",
            "Total params: 535,818\n",
            "Trainable params: 535,818\n",
            "Non-trainable params: 0\n",
            "_________________________________________________________________\n"
          ],
          "name": "stdout"
        }
      ]
    },
    {
      "cell_type": "code",
      "metadata": {
        "id": "cEy6-nSmvctW",
        "colab_type": "code",
        "colab": {}
      },
      "source": [
        "model.compile(\n",
        "    loss = keras.losses.SparseCategoricalCrossentropy(from_logits=True),\n",
        "    optimizer = keras.optimizers.Adam(lr=0.001),\n",
        "    metrics = ['accuracy']\n",
        ")"
      ],
      "execution_count": 5,
      "outputs": []
    },
    {
      "cell_type": "code",
      "metadata": {
        "id": "tJy_bBBfvySG",
        "colab_type": "code",
        "colab": {
          "base_uri": "https://localhost:8080/",
          "height": 357
        },
        "outputId": "1c4a977f-3834-40f7-aae8-2a828dbd6481"
      },
      "source": [
        "hist = model.fit(X_train, ytrain, batch_size=128, epochs=10, validation_split=0.2)"
      ],
      "execution_count": 6,
      "outputs": [
        {
          "output_type": "stream",
          "text": [
            "Epoch 1/10\n",
            "375/375 [==============================] - 4s 12ms/step - loss: 0.2529 - accuracy: 0.9260 - val_loss: 0.1255 - val_accuracy: 0.9627\n",
            "Epoch 2/10\n",
            "375/375 [==============================] - 4s 11ms/step - loss: 0.0921 - accuracy: 0.9717 - val_loss: 0.1159 - val_accuracy: 0.9643\n",
            "Epoch 3/10\n",
            "375/375 [==============================] - 4s 11ms/step - loss: 0.0587 - accuracy: 0.9815 - val_loss: 0.0872 - val_accuracy: 0.9732\n",
            "Epoch 4/10\n",
            "375/375 [==============================] - 4s 11ms/step - loss: 0.0404 - accuracy: 0.9874 - val_loss: 0.0741 - val_accuracy: 0.9783\n",
            "Epoch 5/10\n",
            "375/375 [==============================] - 4s 11ms/step - loss: 0.0282 - accuracy: 0.9905 - val_loss: 0.0878 - val_accuracy: 0.9758\n",
            "Epoch 6/10\n",
            "375/375 [==============================] - 4s 11ms/step - loss: 0.0207 - accuracy: 0.9934 - val_loss: 0.0957 - val_accuracy: 0.9754\n",
            "Epoch 7/10\n",
            "375/375 [==============================] - 4s 11ms/step - loss: 0.0176 - accuracy: 0.9937 - val_loss: 0.0998 - val_accuracy: 0.9753\n",
            "Epoch 8/10\n",
            "375/375 [==============================] - 4s 12ms/step - loss: 0.0140 - accuracy: 0.9954 - val_loss: 0.1016 - val_accuracy: 0.9770\n",
            "Epoch 9/10\n",
            "375/375 [==============================] - 4s 12ms/step - loss: 0.0165 - accuracy: 0.9945 - val_loss: 0.0975 - val_accuracy: 0.9774\n",
            "Epoch 10/10\n",
            "375/375 [==============================] - 4s 11ms/step - loss: 0.0152 - accuracy: 0.9948 - val_loss: 0.0986 - val_accuracy: 0.9791\n"
          ],
          "name": "stdout"
        }
      ]
    },
    {
      "cell_type": "code",
      "metadata": {
        "id": "McnTLarV1lRK",
        "colab_type": "code",
        "colab": {
          "base_uri": "https://localhost:8080/",
          "height": 282
        },
        "outputId": "c5a9af40-8781-41d4-92c2-02099a477024"
      },
      "source": [
        "pd.DataFrame(hist.history).plot()"
      ],
      "execution_count": 7,
      "outputs": [
        {
          "output_type": "execute_result",
          "data": {
            "text/plain": [
              "<matplotlib.axes._subplots.AxesSubplot at 0x7fc386150320>"
            ]
          },
          "metadata": {
            "tags": []
          },
          "execution_count": 7
        },
        {
          "output_type": "display_data",
          "data": {
            "image/png": "[encoded data removed]",
            "text/plain": [
              "<Figure size 432x288 with 1 Axes>"
            ]
          },
          "metadata": {
            "tags": [],
            "needs_background": "light"
          }
        }
      ]
    },
    {
      "cell_type": "code",
      "metadata": {
        "id": "q5Ah3_v-w_8K",
        "colab_type": "code",
        "colab": {
          "base_uri": "https://localhost:8080/",
          "height": 34
        },
        "outputId": "e4661d4f-9e76-484d-e096-dcd40114b4e8"
      },
      "source": [
        "loss, acc = model.evaluate(X_test, ytest)"
      ],
      "execution_count": 8,
      "outputs": [
        {
          "output_type": "stream",
          "text": [
            "313/313 [==============================] - 1s 3ms/step - loss: 0.0923 - accuracy: 0.9783\n"
          ],
          "name": "stdout"
        }
      ]
    },
    {
      "cell_type": "code",
      "metadata": {
        "id": "21OF432xxWMK",
        "colab_type": "code",
        "colab": {
          "base_uri": "https://localhost:8080/",
          "height": 34
        },
        "outputId": "33619641-7f31-4bdf-eab3-65f74afbd6d4"
      },
      "source": [
        "print('accuracy of the model is: {:.2f}%'.format(acc*100))"
      ],
      "execution_count": 9,
      "outputs": [
        {
          "output_type": "stream",
          "text": [
            "accuracy of the model is: 97.83%\n"
          ],
          "name": "stdout"
        }
      ]
    },
    {
      "cell_type": "markdown",
      "metadata": {
        "id": "PWoD0Pv-z_EL",
        "colab_type": "text"
      },
      "source": [
        "# Model Creation with Keras Functional API"
      ]
    },
    {
      "cell_type": "code",
      "metadata": {
        "id": "u9-d3nTzxi4O",
        "colab_type": "code",
        "colab": {
          "base_uri": "https://localhost:8080/",
          "height": 289
        },
        "outputId": "0e8c5470-3b8c-44b0-df23-2aac76500cb0"
      },
      "source": [
        "inp_ = keras.Input(shape=784)\n",
        "x = layers.Dense(512, activation='relu', name='fc1')(inp_)\n",
        "x = layers.Dense(256, activation='relu', name='fc2')(x)\n",
        "out = layers.Dense(10, name='fc3')(x)\n",
        "\n",
        "model = keras.Model(inputs=(inp_), outputs=(out))\n",
        "model.summary()"
      ],
      "execution_count": 10,
      "outputs": [
        {
          "output_type": "stream",
          "text": [
            "Model: \"functional_1\"\n",
            "_________________________________________________________________\n",
            "Layer (type)                 Output Shape              Param #   \n",
            "=================================================================\n",
            "input_2 (InputLayer)         [(None, 784)]             0         \n",
            "_________________________________________________________________\n",
            "fc1 (Dense)                  (None, 512)               401920    \n",
            "_________________________________________________________________\n",
            "fc2 (Dense)                  (None, 256)               131328    \n",
            "_________________________________________________________________\n",
            "fc3 (Dense)                  (None, 10)                2570      \n",
            "=================================================================\n",
            "Total params: 535,818\n",
            "Trainable params: 535,818\n",
            "Non-trainable params: 0\n",
            "_________________________________________________________________\n"
          ],
          "name": "stdout"
        }
      ]
    },
    {
      "cell_type": "code",
      "metadata": {
        "id": "fKGco7zi0uUr",
        "colab_type": "code",
        "colab": {}
      },
      "source": [
        "model.compile(\n",
        "    loss = keras.losses.SparseCategoricalCrossentropy(from_logits=True),\n",
        "    optimizer = keras.optimizers.Adam(lr=0.001),\n",
        "    metrics = ['accuracy']\n",
        ")"
      ],
      "execution_count": 11,
      "outputs": []
    },
    {
      "cell_type": "code",
      "metadata": {
        "id": "tncNyd8J0-PZ",
        "colab_type": "code",
        "colab": {
          "base_uri": "https://localhost:8080/",
          "height": 357
        },
        "outputId": "68e1f6de-c4cb-4ebb-c002-a3f7f3a9a92c"
      },
      "source": [
        "hist = model.fit(X_train, ytrain, batch_size=256, epochs=10, validation_split=0.2)"
      ],
      "execution_count": 12,
      "outputs": [
        {
          "output_type": "stream",
          "text": [
            "Epoch 1/10\n",
            "188/188 [==============================] - 3s 18ms/step - loss: 0.3071 - accuracy: 0.9127 - val_loss: 0.1398 - val_accuracy: 0.9598\n",
            "Epoch 2/10\n",
            "188/188 [==============================] - 3s 17ms/step - loss: 0.1125 - accuracy: 0.9668 - val_loss: 0.1074 - val_accuracy: 0.9667\n",
            "Epoch 3/10\n",
            "188/188 [==============================] - 3s 18ms/step - loss: 0.0712 - accuracy: 0.9785 - val_loss: 0.0923 - val_accuracy: 0.9733\n",
            "Epoch 4/10\n",
            "188/188 [==============================] - 3s 18ms/step - loss: 0.0476 - accuracy: 0.9863 - val_loss: 0.0840 - val_accuracy: 0.9751\n",
            "Epoch 5/10\n",
            "188/188 [==============================] - 3s 17ms/step - loss: 0.0327 - accuracy: 0.9904 - val_loss: 0.0760 - val_accuracy: 0.9770\n",
            "Epoch 6/10\n",
            "188/188 [==============================] - 3s 18ms/step - loss: 0.0240 - accuracy: 0.9929 - val_loss: 0.0848 - val_accuracy: 0.9746\n",
            "Epoch 7/10\n",
            "188/188 [==============================] - 3s 18ms/step - loss: 0.0183 - accuracy: 0.9948 - val_loss: 0.1005 - val_accuracy: 0.9722\n",
            "Epoch 8/10\n",
            "188/188 [==============================] - 3s 17ms/step - loss: 0.0138 - accuracy: 0.9960 - val_loss: 0.0819 - val_accuracy: 0.9782\n",
            "Epoch 9/10\n",
            "188/188 [==============================] - 3s 17ms/step - loss: 0.0115 - accuracy: 0.9963 - val_loss: 0.0892 - val_accuracy: 0.9773\n",
            "Epoch 10/10\n",
            "188/188 [==============================] - 3s 17ms/step - loss: 0.0073 - accuracy: 0.9980 - val_loss: 0.0936 - val_accuracy: 0.9768\n"
          ],
          "name": "stdout"
        }
      ]
    },
    {
      "cell_type": "code",
      "metadata": {
        "id": "Y5Smndnu1LJJ",
        "colab_type": "code",
        "colab": {
          "base_uri": "https://localhost:8080/",
          "height": 282
        },
        "outputId": "223419ee-d400-4f54-fffc-c62d7fcc8bab"
      },
      "source": [
        "pd.DataFrame(hist.history).plot()"
      ],
      "execution_count": 13,
      "outputs": [
        {
          "output_type": "execute_result",
          "data": {
            "text/plain": [
              "<matplotlib.axes._subplots.AxesSubplot at 0x7fc383afff98>"
            ]
          },
          "metadata": {
            "tags": []
          },
          "execution_count": 13
        },
        {
          "output_type": "display_data",
          "data": {
            "image/png": "[encoded data removed]",
            "text/plain": [
              "<Figure size 432x288 with 1 Axes>"
            ]
          },
          "metadata": {
            "tags": [],
            "needs_background": "light"
          }
        }
      ]
    },
    {
      "cell_type": "code",
      "metadata": {
        "id": "ikkl_Q5i1eSr",
        "colab_type": "code",
        "colab": {
          "base_uri": "https://localhost:8080/",
          "height": 34
        },
        "outputId": "f75d8a1b-5f6c-4e77-913a-b613d3c57cce"
      },
      "source": [
        "loss, acc = model.evaluate(X_test, ytest)"
      ],
      "execution_count": 14,
      "outputs": [
        {
          "output_type": "stream",
          "text": [
            "313/313 [==============================] - 1s 2ms/step - loss: 0.0778 - accuracy: 0.9794\n"
          ],
          "name": "stdout"
        }
      ]
    },
    {
      "cell_type": "code",
      "metadata": {
        "id": "Guzk33UF1sEo",
        "colab_type": "code",
        "colab": {
          "base_uri": "https://localhost:8080/",
          "height": 34
        },
        "outputId": "854e4915-f58c-4283-af0e-c2ad0bb12ff3"
      },
      "source": [
        "print('accuracy of the model is: {:.2f}%'.format(acc*100))"
      ],
      "execution_count": 15,
      "outputs": [
        {
          "output_type": "stream",
          "text": [
            "accuracy of the model is: 97.94%\n"
          ],
          "name": "stdout"
        }
      ]
    }
  ]
}